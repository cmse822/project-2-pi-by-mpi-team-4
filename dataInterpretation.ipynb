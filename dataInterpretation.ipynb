{
 "cells": [
  {
   "cell_type": "code",
   "execution_count": 1,
   "metadata": {},
   "outputs": [],
   "source": [
    "# CSV\n",
    "# 1 File per Question (4, 5, 6)\n",
    "# Fields: Darts, Ranks, Nodes, Value of Pi Calculauted, Runtime, Error\n",
    "\n",
    "# PYTHON\n",
    "# Input CSV\n",
    "# Convert to DataFrame\n",
    "# Calculate Speed Up, Efficiency, Ideal Time\n",
    "# Plot From DataFrame"
   ]
  },
  {
   "cell_type": "code",
   "execution_count": 2,
   "metadata": {},
   "outputs": [],
   "source": [
    "import matplotlib.pyplot as plt\n",
    "import seaborn as sns \n",
    "import subprocess\n",
    "import pandas as pd\n",
    "import numpy as np"
   ]
  },
  {
   "cell_type": "code",
   "execution_count": 3,
   "metadata": {},
   "outputs": [
    {
     "data": {
      "text/html": [
       "<div>\n",
       "<style scoped>\n",
       "    .dataframe tbody tr th:only-of-type {\n",
       "        vertical-align: middle;\n",
       "    }\n",
       "\n",
       "    .dataframe tbody tr th {\n",
       "        vertical-align: top;\n",
       "    }\n",
       "\n",
       "    .dataframe thead th {\n",
       "        text-align: right;\n",
       "    }\n",
       "</style>\n",
       "<table border=\"1\" class=\"dataframe\">\n",
       "  <thead>\n",
       "    <tr style=\"text-align: right;\">\n",
       "      <th></th>\n",
       "      <th>Darts</th>\n",
       "      <th>Ranks</th>\n",
       "      <th>Value of Pi Calculauted</th>\n",
       "      <th>Runtime</th>\n",
       "      <th>Error</th>\n",
       "    </tr>\n",
       "  </thead>\n",
       "  <tbody>\n",
       "    <tr>\n",
       "      <th>0</th>\n",
       "      <td>100</td>\n",
       "      <td>128</td>\n",
       "      <td>3.15</td>\n",
       "      <td>0.818174</td>\n",
       "      <td>0.008407</td>\n",
       "    </tr>\n",
       "  </tbody>\n",
       "</table>\n",
       "</div>"
      ],
      "text/plain": [
       "   Darts  Ranks  Value of Pi Calculauted   Runtime     Error\n",
       "0    100    128                     3.15  0.818174  0.008407"
      ]
     },
     "execution_count": 3,
     "metadata": {},
     "output_type": "execute_result"
    }
   ],
   "source": [
    "# header = ['Darts', 'Ranks', 'Nodes', 'Value of Pi Calculauted', 'Runtime', 'Error']\n",
    "# data = pd.read_csv('exampleData.csv', header=None)\n",
    "header = ['Darts', 'Ranks', 'Value of Pi Calculauted', 'Runtime', 'Error']\n",
    "data = pd.read_csv('test1.csv', header=0)\n",
    "data.columns = header\n",
    "data.head()"
   ]
  },
  {
   "cell_type": "code",
   "execution_count": 4,
   "metadata": {},
   "outputs": [],
   "source": [
    "darts = data['Darts']\n",
    "ranks = data['Ranks']\n",
    "# nodes = data['Nodes']\n",
    "piCalculated = data['Value of Pi Calculauted']\n",
    "runTime = data['Runtime']\n",
    "errorCalculated = data['Error']\n",
    "\n",
    "dartsUnique = np.sort(darts.unique())\n",
    "ranksUnique = np.sort(ranks.unique())\n",
    "# nodesUnique = np.sort(nodes.unique())\n",
    "piCalculatedUnique = np.sort(piCalculated.unique())\n",
    "runTimeUnique = np.sort(runTime.unique())\n",
    "errorCalculatedUnique = np.sort(errorCalculated.unique())"
   ]
  },
  {
   "cell_type": "code",
   "execution_count": 5,
   "metadata": {},
   "outputs": [],
   "source": [
    "meanRunTimePerProcessor = pd.DataFrame([np.mean(runTime[ranks == numProcessor]) for numProcessor in ranksUnique])\n",
    "# Time for a Single Processor\n",
    "serialTime = meanRunTimePerProcessor.iloc[0]\n",
    "# Speed Up = Time For a Single Processor / Runtime For Multiple Processors\n",
    "speedUp = serialTime / runTime\n",
    "# Efficiency = Speedup / Number of processors\n",
    "efficiency = speedUp / ranks\n",
    "# Ideal Time = Time For A Single Processor / Number Of Processors\n",
    "idealTime = serialTime / ranks\n",
    "\n",
    "# Store Information in DataFrame\n",
    "data['Speedup'] = speedUp\n",
    "data['Efficiency'] = efficiency\n",
    "data['IdealTime'] = idealTime\n"
   ]
  },
  {
   "cell_type": "code",
   "execution_count": 6,
   "metadata": {},
   "outputs": [
    {
     "name": "stdout",
     "output_type": "stream",
     "text": [
      "0    0.818174\n",
      "Name: Runtime, dtype: float64\n",
      "          0\n",
      "0  0.818174\n",
      "0    1.0\n",
      "dtype: float64\n",
      "0    0.007812\n",
      "dtype: float64\n",
      "0    0.006392\n",
      "dtype: float64\n"
     ]
    }
   ],
   "source": [
    "print(runTime)\n",
    "print(meanRunTimePerProcessor)\n",
    "print(speedUp)\n",
    "print(efficiency)\n",
    "print(idealTime)"
   ]
  },
  {
   "cell_type": "code",
   "execution_count": 7,
   "metadata": {},
   "outputs": [
    {
     "name": "stdout",
     "output_type": "stream",
     "text": [
      "[0.818174]\n",
      "[128]\n"
     ]
    },
    {
     "data": {
      "image/png": "[encoded data removed]",
      "text/plain": [
       "<Figure size 432x288 with 1 Axes>"
      ]
     },
     "metadata": {
      "needs_background": "light"
     },
     "output_type": "display_data"
    }
   ],
   "source": [
    "meanRunTimes = np.array(meanRunTimePerProcessor)[0] # Change structure for plotting\n",
    "print(meanRunTimes)\n",
    "print(ranksUnique)\n",
    "plt.figure()\n",
    "plt.plot(ranksUnique, meanRunTimes, '--r', marker='o', label = 'Actual')\n",
    "plt.plot(ranksUnique, idealTime, '--b', marker='o', label = 'ideal')\n",
    "plt.xscale('log', base=2)\n",
    "plt.xlabel(\"Number of Processors\")\n",
    "plt.ylabel(\"Runtime (s)\")\n",
    "plt.legend()\n",
    "plt.savefig(\"part4_p3.png\")"
   ]
  },
  {
   "cell_type": "code",
   "execution_count": null,
   "metadata": {},
   "outputs": [],
   "source": []
  }
 ],
 "metadata": {
  "kernelspec": {
   "display_name": "Python 3",
   "language": "python",
   "name": "python3"
  },
  "language_info": {
   "codemirror_mode": {
    "name": "ipython",
    "version": 3
   },
   "file_extension": ".py",
   "mimetype": "text/x-python",
   "name": "python",
   "nbconvert_exporter": "python",
   "pygments_lexer": "ipython3",
   "version": "3.6.4"
  },
  "orig_nbformat": 4
 },
 "nbformat": 4,
 "nbformat_minor": 2
}
